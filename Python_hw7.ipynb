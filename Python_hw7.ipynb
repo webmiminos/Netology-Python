{
 "cells": [
  {
   "cell_type": "markdown",
   "id": "e055f544-fbce-4762-bfb2-0767f444a973",
   "metadata": {},
   "source": [
    "Задание 1\n",
    "Напишите функцию, которая возвращает название валюты (поле ‘Name’) с максимальным значением курса с \n",
    "помощью сервиса www.cbr-xml-daily.ru...ly_json.js"
   ]
  },
  {
   "cell_type": "code",
   "execution_count": 111,
   "id": "37374ddf-5b80-4c65-a9ad-4a4c574ba339",
   "metadata": {
    "scrolled": true
   },
   "outputs": [
    {
     "name": "stdout",
     "output_type": "stream",
     "text": [
      "СДР (специальные права заимствования)\n"
     ]
    }
   ],
   "source": [
    "from exchange import Rate\n",
    "\n",
    "class NameRate(Rate):\n",
    "    def __init__(self):\n",
    "        super().__init__()  # Initialize without format_\n",
    "  \n",
    "    def name_rate(self, currency):\n",
    "        return self.make_format(currency)['Name']\n",
    "    \n",
    "    def max_currency_name(self):\n",
    "        max_value = float('-inf') \n",
    "        max_currency_name = None\n",
    "        \n",
    "        rates = self.exchange_rates()\n",
    "        for currency, data in rates.items():\n",
    "            if data['Value'] > max_value:\n",
    "                max_value = data['Value']\n",
    "                max_currency_name = data['Name']\n",
    "        \n",
    "        return max_currency_name\n",
    "\n",
    "\n",
    "name_rates = NameRate()\n",
    "print(name_rates.max_currency_name())"
   ]
  },
  {
   "cell_type": "markdown",
   "id": "8fb62ee3-7c54-46ea-acae-3603a3698b95",
   "metadata": {},
   "source": [
    "Задание 2\n",
    "Добавьте в класс Rate параметр diff (со значениями True или False), который в случае значения True в методах курсов валют (eur, usd итд) будет \n",
    "возвращать не курс валюты, \n",
    "а изменение по сравнению в прошлым значением. Считайте, self.diff будет принимать значение True только при возврате значения курса. \n",
    "При отображении всей информации о валюте он не используется."
   ]
  },
  {
   "cell_type": "code",
   "execution_count": 141,
   "id": "917047ae-b97f-441b-a7ac-96387f6d8a08",
   "metadata": {},
   "outputs": [
    {
     "name": "stdout",
     "output_type": "stream",
     "text": [
      "-0.6480999999999995\n",
      "-0.19550000000000978\n",
      "102.1301\n",
      "97.8107\n"
     ]
    }
   ],
   "source": [
    "import requests\n",
    "\n",
    "class Rate:\n",
    "    def __init__(self, format_='value', diff=False):\n",
    "        self.format = format_\n",
    "        self.diff = diff\n",
    "    \n",
    "    def exchange_rates(self):\n",
    "        self.r = requests.get('https://www.cbr-xml-daily.ru/daily_json.js')\n",
    "        return self.r.json()['Valute']\n",
    "    \n",
    "    def make_format(self, currency):\n",
    "        response = self.exchange_rates()\n",
    "        \n",
    "        if currency in response:\n",
    "            if self.format == 'full':\n",
    "                return response[currency]\n",
    "            \n",
    "            if self.format == 'value':\n",
    "                return response[currency]['Value']\n",
    "        \n",
    "        return 'Error'\n",
    "    \n",
    "    def calculate_diff(self, currency):\n",
    "        response = self.exchange_rates()\n",
    "        \n",
    "        if currency in response:\n",
    "            current_value = response[currency]['Value']\n",
    "            previous_value = response[currency]['Previous']\n",
    "            return current_value - previous_value\n",
    "        \n",
    "        return 'Error'\n",
    "\n",
    "    def eur(self):\n",
    "        if self.diff:\n",
    "            return self.calculate_diff('EUR')\n",
    "        return self.make_format('EUR')\n",
    "    \n",
    "    def usd(self):\n",
    "        if self.diff:\n",
    "            return self.calculate_diff('USD')\n",
    "        return self.make_format('USD')\n",
    "\n",
    "rate = Rate(format_='value', diff=True)\n",
    "print(rate.eur()) \n",
    "print(rate.usd())\n",
    "\n",
    "rate = Rate(format_='value', diff=False)\n",
    "print(rate.eur()) \n",
    "print(rate.usd())"
   ]
  },
  {
   "cell_type": "markdown",
   "id": "5b6613c0-9372-4531-a53f-a51bdb7aafd6",
   "metadata": {},
   "source": [
    "Задание 3\n",
    "Напишите класс Designer, который учитывает количество международных премий. Подсказки в коде занятия (“Ноутбук к лекциям «Понятие класса» + презентация”, zip-файл “Используемый ноутбук к лекциям «Понятие класса»)."
   ]
  },
  {
   "cell_type": "code",
   "execution_count": 162,
   "id": "97982d5a-dc91-40d9-8f80-25c32c807d15",
   "metadata": {},
   "outputs": [
    {
     "name": "stdout",
     "output_type": "stream",
     "text": [
      "Александр 1\n",
      "Александр 1\n"
     ]
    }
   ],
   "source": [
    "class Employee:\n",
    "    def __init__(self, name, seniority):\n",
    "        self.name = name\n",
    "        self.seniority = seniority\n",
    "        \n",
    "        self.grade = 1\n",
    "    \n",
    "    def grade_up(self):\n",
    "        self.grade += 1\n",
    "    \n",
    "    def publish_grade(self):\n",
    "        print(self.name, self.grade)\n",
    "    \n",
    "    def check_if_it_is_time_for_upgrade(self):\n",
    "        pass\n",
    "\n",
    "class Designer_grade(Employee):\n",
    "    def __init__(self, name, seniority, awards):\n",
    "        super().__init__(name, seniority + awards)\n",
    "    \n",
    "    def check_if_it_is_time_for_upgrade(self):\n",
    "        self.awards += 2\n",
    "        if self.awards % 7 == 0:\n",
    "            self.grade_up()\n",
    "        \n",
    "        return self.publish_grade()\n",
    "\n",
    "alex = Designer('Александр', 2)\n",
    "for i in range(2):\n",
    "    alex.check_if_it_is_time_for_upgrade()"
   ]
  }
 ],
 "metadata": {
  "kernelspec": {
   "display_name": "Python [conda env:base] *",
   "language": "python",
   "name": "conda-base-py"
  },
  "language_info": {
   "codemirror_mode": {
    "name": "ipython",
    "version": 3
   },
   "file_extension": ".py",
   "mimetype": "text/x-python",
   "name": "python",
   "nbconvert_exporter": "python",
   "pygments_lexer": "ipython3",
   "version": "3.12.7"
  }
 },
 "nbformat": 4,
 "nbformat_minor": 5
}

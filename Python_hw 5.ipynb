{
 "cells": [
  {
   "cell_type": "markdown",
   "id": "0de81318-374f-4e06-ad73-9bee0c602bd6",
   "metadata": {},
   "source": [
    "Задание 1 Переведите содержимое файла purchase_log.txt* в словарь purchases вида:\n",
    "{‘1840e0b9d4’: ‘Продукты’, …}\n",
    "Задание 2: Для каждого user_id в файле visit_log.csv определите третий столбец с категорией покупки, если покупка была, сам файл visit_log.csv* изменять не надо. Запишите в файл funnel.csv визиты из файла visit_log.csv*, в которых были покупки с указанием категории."
   ]
  },
  {
   "cell_type": "code",
   "execution_count": 137,
   "id": "5cddd6d7-7acd-4d03-b4d3-365c7f73a574",
   "metadata": {},
   "outputs": [],
   "source": [
    "import json\n",
    "import csv\n",
    "\n",
    "\n",
    "file_path = r'C:\\Users\\svshi\\OneDrive\\Desktop\\Для ДЗ\\purchase_log.txt'\n",
    "file_visit = r'C:\\Users\\svshi\\OneDrive\\Desktop\\Для ДЗ\\visit_log.csv'\n",
    "file_funnel = r'C:\\Users\\svshi\\OneDrive\\Desktop\\Для ДЗ\\funnel.csv'\n",
    "\n",
    "# Словарь для хранения покупок\n",
    "purchases = {}\n",
    "\n",
    "'''\n",
    "чтение файла purchase.txt и заполнение словаря\n",
    "'''\n",
    "with open(file_path, 'r', encoding='utf-8') as file_txt:\n",
    "    for line in file_txt: \n",
    "        record = json.loads(line)\n",
    "        user_id = record['user_id']\n",
    "        category = record['category']\n",
    "        purchases[user_id] = category\n",
    "\n",
    "\n",
    "'''\n",
    "Обработка visit_log.csv и запись funnel.csv\n",
    "'''\n",
    "\n",
    "with open(file_visit, 'r', encoding='utf-8') as visit_file:\n",
    "    with open(file_funnel, 'w', newline='', encoding='utf-8') as funnel_file:\n",
    "        writer = csv.writer(funnel_file)\n",
    "        \n",
    "        reader = csv.reader(visit_file)\n",
    "        for line in reader:\n",
    "            user_id = line[0]  \n",
    "            if user_id in purchases:\n",
    "    \n",
    "                writer.writerow([user_id, row[1], purchases[user_id]])\n",
    "\n",
    "    \n"
   ]
  }
 ],
 "metadata": {
  "kernelspec": {
   "display_name": "Python [conda env:base] *",
   "language": "python",
   "name": "conda-base-py"
  },
  "language_info": {
   "codemirror_mode": {
    "name": "ipython",
    "version": 3
   },
   "file_extension": ".py",
   "mimetype": "text/x-python",
   "name": "python",
   "nbconvert_exporter": "python",
   "pygments_lexer": "ipython3",
   "version": "3.12.7"
  }
 },
 "nbformat": 4,
 "nbformat_minor": 5
}

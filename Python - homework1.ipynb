{
 "cells": [
  {
   "cell_type": "markdown",
   "metadata": {},
   "source": [
    "Задание 1 -  \n",
    "Даны 2 переменных, в которых хранятся строки произвольной длины: phrase_1 и phrase_2.\n",
    "Напишите код, который проверяет какая из этих строк длиннее."
   ]
  },
  {
   "cell_type": "code",
   "execution_count": 1,
   "metadata": {},
   "outputs": [
    {
     "ename": "NameError",
     "evalue": "name 'phrase_1' is not defined",
     "output_type": "error",
     "traceback": [
      "\u001b[1;31m---------------------------------------------------------------------------\u001b[0m",
      "\u001b[1;31mNameError\u001b[0m                                 Traceback (most recent call last)",
      "\u001b[1;32m<ipython-input-1-02533f5f9f6a>\u001b[0m in \u001b[0;36m<module>\u001b[1;34m\u001b[0m\n\u001b[0;32m      8\u001b[0m \u001b[1;31m#phrase_2 = 'Насколько проще было бы писать программы, если бы не заказчики'\u001b[0m\u001b[1;33m\u001b[0m\u001b[1;33m\u001b[0m\u001b[1;33m\u001b[0m\u001b[0m\n\u001b[0;32m      9\u001b[0m \u001b[1;33m\u001b[0m\u001b[0m\n\u001b[1;32m---> 10\u001b[1;33m \u001b[1;32mif\u001b[0m \u001b[0mlen\u001b[0m\u001b[1;33m(\u001b[0m\u001b[0mphrase_1\u001b[0m\u001b[1;33m)\u001b[0m \u001b[1;33m==\u001b[0m \u001b[0mlen\u001b[0m\u001b[1;33m(\u001b[0m\u001b[0mphrase_2\u001b[0m\u001b[1;33m)\u001b[0m\u001b[1;33m:\u001b[0m\u001b[1;33m\u001b[0m\u001b[1;33m\u001b[0m\u001b[0m\n\u001b[0m\u001b[0;32m     11\u001b[0m     \u001b[0mprint\u001b[0m\u001b[1;33m(\u001b[0m\u001b[1;34m'Фразы равной длины'\u001b[0m\u001b[1;33m)\u001b[0m\u001b[1;33m\u001b[0m\u001b[1;33m\u001b[0m\u001b[0m\n\u001b[0;32m     12\u001b[0m \u001b[1;32melif\u001b[0m \u001b[0mlen\u001b[0m\u001b[1;33m(\u001b[0m\u001b[0mphrase_1\u001b[0m\u001b[1;33m)\u001b[0m \u001b[1;33m>\u001b[0m \u001b[0mlen\u001b[0m\u001b[1;33m(\u001b[0m\u001b[0mphrase_2\u001b[0m\u001b[1;33m)\u001b[0m\u001b[1;33m:\u001b[0m\u001b[1;33m\u001b[0m\u001b[1;33m\u001b[0m\u001b[0m\n",
      "\u001b[1;31mNameError\u001b[0m: name 'phrase_1' is not defined"
     ]
    }
   ],
   "source": [
    "#phrase_1 = 'Насколько проще было бы писать программы, если бы не заказчики'\n",
    "#phrase_2 = '640Кб должно хватить для любых задач. Билл Гейтс (по легенде)'\n",
    "\n",
    "#phrase_1 = '640Кб должно хватить для любых задач. Билл Гейтс (по легенде)'\n",
    "#phrase_2 = 'Насколько проще было бы писать программы, если бы не заказчики'\n",
    "\n",
    "#phrase_1 = 'Насколько проще было бы писать программы, если бы не заказчики'\n",
    "#phrase_2 = 'Насколько проще было бы писать программы, если бы не заказчики'\n",
    "\n",
    "if len(phrase_1) == len(phrase_2):\n",
    "    print('Фразы равной длины')\n",
    "elif len(phrase_1) > len(phrase_2):\n",
    "    print('Фраза 1 длиннее фразы 2')\n",
    "else:\n",
    "    print('Фраза 2 длиннее фразы 1')"
   ]
  },
  {
   "cell_type": "markdown",
   "metadata": {},
   "source": [
    "Задание 2 - Дана переменная, в которой хранится число (год). Необходимо написать программу, которая выведет, является ли данный год високосным или обычным."
   ]
  },
  {
   "cell_type": "code",
   "execution_count": 2,
   "metadata": {},
   "outputs": [
    {
     "name": "stdout",
     "output_type": "stream",
     "text": [
      "Високосный год\n"
     ]
    }
   ],
   "source": [
    "year = 2020\n",
    "#year = 2019\n",
    "\n",
    "if (year % 4 == 0 and year % 100 != 0) or (year % 400 == 0):\n",
    "    print('Високосный год')\n",
    "else:\n",
    "    print('Обычный год')\n"
   ]
  },
  {
   "cell_type": "markdown",
   "metadata": {},
   "source": [
    "Задание 3 - Необходимо написать программу, которая будет запрашивать у пользователя месяц и дату рождения и выводить соответствующий знак зодиака."
   ]
  },
  {
   "cell_type": "code",
   "execution_count": 5,
   "metadata": {},
   "outputs": [
    {
     "name": "stdout",
     "output_type": "stream",
     "text": [
      "Введите день:17\n",
      "Введите месяц:октябрь\n",
      "Ваш знак зодиака: Весы\n"
     ]
    }
   ],
   "source": [
    "day = int(input('Введите день:'))\n",
    "month = str(input('Введите месяц:')).lower()\n",
    "\n",
    "if (month == \"март\" and day >= 21) or (month == \"апрель\" and day <= 19):\n",
    "    print('Ваш знак зодиака: Овен')\n",
    "elif (month == \"апрель\" and day >= 20) or (month == \"май\" and day <= 20):\n",
    "    print('Ваш знак зодиака: Телец')\n",
    "elif (month == \"май\" and day >= 21) or (month == \"июнь\" and day <= 21):\n",
    "    print('Ваш знак зодиака: Близнецы')\n",
    "elif (month == \"июнь\" and day >= 22) or (month == \"июль\" and day <= 22):\n",
    "    print('Ваш знак зодиака: Рак')\n",
    "elif (month == \"июль\" and day >= 23) or (month == \"август\" and day <= 22):\n",
    "    print('Ваш знак зодиака: Лев')\n",
    "elif (month == \"август\" and day >= 23) or (month == \"сентябрь\" and day <= 22):\n",
    "    print('Ваш знак зодиака: Дева')\n",
    "elif (month == \"сентябрь\" and day >= 23) or (month == \"октябрь\" and day <= 23):\n",
    "    print('Ваш знак зодиака: Весы')\n",
    "elif (month == \"октябрь\" and day >= 24) or (month == \"ноябрь\" and day <= 22):\n",
    "    print('Ваш знак зодиака: Скорпион')\n",
    "elif (month == \"ноябрь\" and day >= 23) or (month == \"декабрь\" and day <= 21):\n",
    "    print('Ваш знак зодиака: Стрелец')\n",
    "elif (month == \"декабрь\" and day >= 22) or (month == \"январь\" and day <= 19):\n",
    "    print('Ваш знак зодиака: Козерог')\n",
    "elif (month == \"январь\" and day >= 20) or (month == \"февраль\" and day <= 18):\n",
    "    print('Ваш знак зодиака: Водолей')\n",
    "elif (month == \"февраль\" and day >= 19) or (month == \"март\" and day <= 20):\n",
    "    print('Ваш знак зодиака: Рыбы')\n",
    "else:\n",
    "    print('Не удалось определить знак зодиака')\n",
    "\n"
   ]
  },
  {
   "cell_type": "markdown",
   "metadata": {},
   "source": [
    "Задание 4 -Вам нужно написать программу для подбора упаковок по размерам товара. Размеры (ширина, длина, высота) хранятся в переменных (в сантиметрах):"
   ]
  },
  {
   "cell_type": "code",
   "execution_count": 15,
   "metadata": {},
   "outputs": [
    {
     "name": "stdout",
     "output_type": "stream",
     "text": [
      "Упаковка для лыж\n"
     ]
    }
   ],
   "source": [
    "#width = 15\n",
    "#length = 55\n",
    "#height = 15\n",
    "\n",
    "idth = 45\n",
    "length = 205\n",
    "height = 45\n",
    "\n",
    "if width <= 15 and length <= 15 and height <= 15:\n",
    "    print('Коробка №1')\n",
    "elif width > 200 or length > 200 or height > 200:\n",
    "    print('Упаковка для лыж')\n",
    "elif (15 < width < 50) or (15 < length < 50) or (15 < height < 50):\n",
    "    print('Коробка №2')\n",
    "else:\n",
    "    print('Коробка №3')"
   ]
  },
  {
   "cell_type": "markdown",
   "metadata": {},
   "source": [
    "Задание 5 (необязательное)\n",
    "Дана переменная, в которой хранится шестизначное число (номер проездного билета). Напишите программу, которая будет определять, является ли данный билет “счастливым”. Билет считается счастливым, если сумма первых трех цифр совпадает с суммой последних трех цифр номера."
   ]
  },
  {
   "cell_type": "code",
   "execution_count": 21,
   "metadata": {},
   "outputs": [
    {
     "name": "stdout",
     "output_type": "stream",
     "text": [
      "Несчастливый билет\n"
     ]
    }
   ],
   "source": [
    "number = 123456\n",
    "number_string = str(number)\n",
    "\n",
    "#используем цикл и List comprehension\n",
    "first_half_sum = sum(int(digit) for digit in number_string[:3])\n",
    "second_half_sum = sum(int(digit) for digit in number_string[3:])\n",
    "    \n",
    "if first_half_sum == second_half_sum:\n",
    "    print('Счастливый билет')\n",
    "else:\n",
    "     print('Несчастливый билет')\n",
    "\n"
   ]
  },
  {
   "cell_type": "markdown",
   "metadata": {},
   "source": []
  },
  {
   "cell_type": "code",
   "execution_count": null,
   "metadata": {},
   "outputs": [],
   "source": []
  }
 ],
 "metadata": {
  "kernelspec": {
   "display_name": "Python 3",
   "language": "python",
   "name": "python3"
  },
  "language_info": {
   "codemirror_mode": {
    "name": "ipython",
    "version": 3
   },
   "file_extension": ".py",
   "mimetype": "text/x-python",
   "name": "python",
   "nbconvert_exporter": "python",
   "pygments_lexer": "ipython3",
   "version": "3.7.4"
  }
 },
 "nbformat": 4,
 "nbformat_minor": 2
}

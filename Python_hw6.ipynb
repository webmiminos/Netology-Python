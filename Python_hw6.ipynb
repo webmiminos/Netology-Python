{
 "cells": [
  {
   "cell_type": "markdown",
   "id": "bb818a2d-4176-478a-b7f8-640462d3eef1",
   "metadata": {},
   "source": [
    "Задание 1\n",
    "Печатные газеты использовали свой формат дат для каждого выпуска. \n",
    "Для каждой газеты из списка напишите формат указанной даты для перевода в объект datetime"
   ]
  },
  {
   "cell_type": "code",
   "execution_count": 34,
   "id": "6b6c6068-8deb-40c0-b07b-e97d1cbfd58a",
   "metadata": {},
   "outputs": [
    {
     "name": "stdout",
     "output_type": "stream",
     "text": [
      "The Moscow Times: 2002-10-02 00:00:00\n",
      "the Guardian: 2013-10-11 00:00:00\n",
      "the Daily News: 1977-08-18 00:00:00\n"
     ]
    }
   ],
   "source": [
    "from datetime import datetime\n",
    "\n",
    "the_Moscow_Times = datetime.strptime('Wednesday, October 2, 2002', '%A, %B %d, %Y')\n",
    "the_Guardian = datetime.strptime('Friday, 11.10.13', '%A, %d.%m.%y')\n",
    "the_Daily_News = datetime.strptime('Thursday, 18 August 1977', '%A, %d %B %Y')\n",
    "\n",
    "print(f'The Moscow Times: {the_Moscow_Times}')\n",
    "print(f'the Guardian: {the_Guardian}')\n",
    "print(f'the Daily News: {the_Daily_News}')\n",
    "\n"
   ]
  },
  {
   "cell_type": "markdown",
   "id": "de724ede-94db-4ece-9ec1-7a0867990deb",
   "metadata": {},
   "source": [
    "Задание 2 Дан поток дат в формате YYYY-MM-DD, в которых встречаются некорректные значения\n",
    "Напишите функцию, которая проверяет эти даты на корректность. То есть для каждой даты возвращает \n",
    "True — дата корректна или False — некорректная."
   ]
  },
  {
   "cell_type": "code",
   "execution_count": 6,
   "id": "d8fb85d8-bf77-4dfe-8bdf-90f1ac59cd46",
   "metadata": {},
   "outputs": [
    {
     "name": "stdout",
     "output_type": "stream",
     "text": [
      "[True, False, False]\n"
     ]
    }
   ],
   "source": [
    "from datetime import datetime\n",
    "\n",
    "def check_dates(dates):\n",
    "    results = []\n",
    "    for date in dates:\n",
    "        try:\n",
    "            # Пытаемся преобразовать строку в объект даты\n",
    "            datetime.strptime(date, '%Y-%m-%d')\n",
    "            results.append(True)  # Дата корректна\n",
    "        except ValueError:\n",
    "            results.append(False)  # Дата некорректна\n",
    "    return results\n",
    "\n",
    "\n",
    "\n",
    "stream = ['2018-04-02', '2018-02-29', '2018-19-02']\n",
    "results = check_dates(stream)\n",
    "\n",
    "print(results)"
   ]
  },
  {
   "cell_type": "markdown",
   "id": "e2167912-e94b-4036-83eb-95bf2f837b26",
   "metadata": {},
   "source": [
    "Задание 3 Напишите функцию date_range, которая возвращает список дат за период от start_date до end_date. \n",
    "Даты должны вводиться в формате YYYY-MM-DD. В случае неверного формата или при start_date > end_date должен \n",
    "возвращаться пустой список.\n"
   ]
  },
  {
   "cell_type": "code",
   "execution_count": 21,
   "id": "9034a4f3-06a1-418b-90db-ec8018923cae",
   "metadata": {},
   "outputs": [
    {
     "name": "stdout",
     "output_type": "stream",
     "text": [
      "['2025-01-01', '2025-01-02', '2025-01-03', '2025-01-04', '2025-01-05']\n",
      "[]\n",
      "[]\n"
     ]
    }
   ],
   "source": [
    "from datetime import datetime, timedelta\n",
    "\n",
    "def date_range(start_date, end_date):\n",
    "    \n",
    "    try:\n",
    "        start = datetime.strptime(start_date, \"%Y-%m-%d\")\n",
    "        end = datetime.strptime(end_date, \"%Y-%m-%d\")\n",
    "    except ValueError:\n",
    "        return []\n",
    "    \n",
    "        if start > end:\n",
    "            return []\n",
    "    \n",
    "    \n",
    "    date_list = []\n",
    "    current_date = start\n",
    "    while current_date <= end:\n",
    "        date_list.append(current_date.strftime(\"%Y-%m-%d\"))\n",
    "        current_date += timedelta(days = 1)\n",
    "    \n",
    "    return date_list\n",
    "\n",
    "# Пример использования функции\n",
    "print(date_range(\"2025-01-01\", \"2025-01-05\"))  \n",
    "print(date_range(\"2025-01-05\", \"2025-01-01\"))  \n",
    "print(date_range(\"2025-01-01\", \"invalid-date\"))  \n",
    "\n"
   ]
  },
  {
   "cell_type": "code",
   "execution_count": null,
   "id": "26a61c82-0912-4cf1-a5f4-efb335a40337",
   "metadata": {},
   "outputs": [],
   "source": []
  }
 ],
 "metadata": {
  "kernelspec": {
   "display_name": "Python [conda env:base] *",
   "language": "python",
   "name": "conda-base-py"
  },
  "language_info": {
   "codemirror_mode": {
    "name": "ipython",
    "version": 3
   },
   "file_extension": ".py",
   "mimetype": "text/x-python",
   "name": "python",
   "nbconvert_exporter": "python",
   "pygments_lexer": "ipython3",
   "version": "3.12.7"
  }
 },
 "nbformat": 4,
 "nbformat_minor": 5
}
